{
  "metadata": {
    "kernelspec": {
      "name": "python",
      "display_name": "Python (Pyodide)",
      "language": "python"
    },
    "language_info": {
      "codemirror_mode": {
        "name": "python",
        "version": 3
      },
      "file_extension": ".py",
      "mimetype": "text/x-python",
      "name": "python",
      "nbconvert_exporter": "python",
      "pygments_lexer": "ipython3",
      "version": "3.8"
    }
  },
  "nbformat_minor": 4,
  "nbformat": 4,
  "cells": [
    {
      "cell_type": "markdown",
      "source": "Artificial Neural Network",
      "metadata": {}
    },
    {
      "cell_type": "code",
      "source": "import matplotlib.pyplot as plt\nfrom IPython.display import Audio\nimport numpy as np\nimport math\n%matplotlib inline",
      "metadata": {
        "trusted": true
      },
      "outputs": [],
      "execution_count": 2
    },
    {
      "cell_type": "code",
      "source": "toNodes = range(3, 5)\nfromNodes = range(0, 2)",
      "metadata": {
        "trusted": true
      },
      "outputs": [],
      "execution_count": 3
    },
    {
      "cell_type": "code",
      "source": "# bias       = [0.2, -0.1, 0.5, 0.1, 0.4, 0.9]\nactivation = [0.8, -0.3, -0.8, 0.1, 0.5]\nnetInput   = [0, 0, 0, 0, 0]\nweight = [[ 0.1, -0.8], \n          [-0.3,  0.1], \n          [ 0.2, -0.1], \n          [ 0.0,  0.1], \n          [ 0.8, -0.8], \n          [ 0.4, 0.5]]",
      "metadata": {
        "trusted": true
      },
      "outputs": [],
      "execution_count": null
    },
    {
      "cell_type": "code",
      "source": "for i in toNodes:\n    netInput[i] = bias[i]\n    for j in fromNodes:\n        netInput[i] += (weight[i][j] * activation[j]) \nnetInput",
      "metadata": {
        "trusted": true
      },
      "outputs": [
        {
          "execution_count": 5,
          "output_type": "execute_result",
          "data": {
            "text/plain": "[0, 0, 0, 0.07, 1.28]"
          },
          "metadata": {}
        }
      ],
      "execution_count": 5
    },
    {
      "cell_type": "code",
      "source": "def activationFunction(netInput):\n    return 1.0 / (1.0 + math.exp(-netInput))",
      "metadata": {
        "trusted": true
      },
      "outputs": [],
      "execution_count": 6
    },
    {
      "cell_type": "code",
      "source": "for i in toNodes:\n    activation[i] = activationFunction(netInput[i])\nactivation",
      "metadata": {
        "trusted": true
      },
      "outputs": [
        {
          "execution_count": 7,
          "output_type": "execute_result",
          "data": {
            "text/plain": "[0.8, -0.3, -0.8, 0.5174928576663897, 0.7824497764231124]"
          },
          "metadata": {}
        }
      ],
      "execution_count": 7
    },
    {
      "cell_type": "code",
      "source": "xs = range(-10, 10)\npts = [activationFunction(x) for x in xs]",
      "metadata": {
        "trusted": true
      },
      "outputs": [],
      "execution_count": 8
    },
    {
      "cell_type": "code",
      "source": "plt.plot(xs, pts)\nplt.xlabel(\"input\")\nplt.ylabel(\"output\")\nplt.show()",
      "metadata": {
        "trusted": true,
        "scrolled": true
      },
      "outputs": [
        {
          "output_type": "display_data",
          "data": {
            "text/plain": "<Figure size 640x480 with 1 Axes>",
            "image/png": "[encoded data removed]"
          },
          "metadata": {}
        }
      ],
      "execution_count": 9
    },
    {
      "cell_type": "markdown",
      "source": "supervised machine learning\n",
      "metadata": {}
    },
    {
      "cell_type": "code",
      "source": "desiredOutput = [0.1, 0.2, 0.3, 0.4, 0.5]\nactualOutput = [0.8, 0.6, 0.5, 0.8, 0.3]\n\nerror = [0.0 for i in desiredOutput]\ndelta = [0.0 for i in desiredOutput]\n\nEPSILON = 0.1   # learning rate\nMOMENTUM = 0.01 # a smoothing term\n\nweightUpdate = [[ 0.0, 0.0], \n                [ 0.0, 0.0], \n                [ 0.0, 0.0], \n                [ 0.0, 0.0], \n                [ 0.0, 0.0], \n                [ 0.0, 0.0]]",
      "metadata": {
        "trusted": true
      },
      "outputs": [],
      "execution_count": 11
    },
    {
      "cell_type": "code",
      "source": "for i in toNodes:\n    error[i] = (desiredOutput[i] - actualOutput[i])\n    delta[i] = error[i] * actualOutput[i] * (1 - actualOutput[i])\n    for j in fromNodes:\n        weightUpdate[i][j] = (EPSILON * delta[i] * actualOutput[j]) + (MOMENTUM * weightUpdate[i][j])\n        \nweightUpdate",
      "metadata": {
        "trusted": true
      },
      "outputs": [
        {
          "execution_count": 12,
          "output_type": "execute_result",
          "data": {
            "text/plain": "[[0.0, 0.0],\n [0.0, 0.0],\n [0.0, 0.0],\n [-0.00512, -0.00384],\n [0.00336, 0.0025199999999999997],\n [0.0, 0.0]]"
          },
          "metadata": {}
        }
      ],
      "execution_count": 12
    },
    {
      "cell_type": "code",
      "source": "",
      "metadata": {
        "trusted": true
      },
      "outputs": [],
      "execution_count": null
    }
  ]
}